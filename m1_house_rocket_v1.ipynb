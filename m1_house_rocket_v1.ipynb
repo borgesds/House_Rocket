{
 "cells": [
  {
   "cell_type": "markdown",
   "id": "0de67cfb",
   "metadata": {},
   "source": [
    "# 1.0 IMPORT"
   ]
  },
  {
   "cell_type": "code",
   "execution_count": 63,
   "id": "56b92e20",
   "metadata": {
    "ExecuteTime": {
     "end_time": "2021-11-06T16:02:55.302375Z",
     "start_time": "2021-11-06T16:02:55.297657Z"
    }
   },
   "outputs": [],
   "source": [
    "import pandas as pd\n",
    "import numpy as np\n",
    "import seaborn as sns\n",
    "import matplotlib.pyplot as plt\n",
    "import warnings\n",
    "\n",
    "\n",
    "warnings.filterwarnings('ignore')"
   ]
  },
  {
   "cell_type": "markdown",
   "id": "0492cc0b",
   "metadata": {
    "heading_collapsed": true
   },
   "source": [
    "## 1.1 Helper Fuctions"
   ]
  },
  {
   "cell_type": "code",
   "execution_count": 64,
   "id": "2571aedf",
   "metadata": {
    "ExecuteTime": {
     "end_time": "2021-11-06T16:02:55.382922Z",
     "start_time": "2021-11-06T16:02:55.303887Z"
    },
    "hidden": true
   },
   "outputs": [],
   "source": [
    "def grafdisplot(dt):\n",
    "    sns.set(rc={'figure.figsize':(20, 10)})\n",
    "    sns.distplot(dt, kde=True);\n",
    "    \n",
    "    return None\n"
   ]
  },
  {
   "cell_type": "markdown",
   "id": "0b578313",
   "metadata": {},
   "source": [
    "## 1.2 Loding data"
   ]
  },
  {
   "cell_type": "code",
   "execution_count": 65,
   "id": "f59c594d",
   "metadata": {
    "ExecuteTime": {
     "end_time": "2021-11-06T16:02:55.599633Z",
     "start_time": "2021-11-06T16:02:55.389052Z"
    }
   },
   "outputs": [],
   "source": [
    "df1 = pd.read_csv('data/kc_house_data.csv')"
   ]
  }
 ],
 "metadata": {
  "kernelspec": {
   "display_name": "Python 3",
   "language": "python",
   "name": "python3"
  },
  "language_info": {
   "codemirror_mode": {
    "name": "ipython",
    "version": 3
   },
   "file_extension": ".py",
   "mimetype": "text/x-python",
   "name": "python",
   "nbconvert_exporter": "python",
   "pygments_lexer": "ipython3",
   "version": "3.8.8"
  },
  "toc": {
   "base_numbering": 1,
   "nav_menu": {},
   "number_sections": false,
   "sideBar": false,
   "skip_h1_title": false,
   "title_cell": "Table of Contents",
   "title_sidebar": "Contents",
   "toc_cell": false,
   "toc_position": {
    "height": "526px",
    "left": "1155px",
    "top": "90px",
    "width": "165px"
   },
   "toc_section_display": true,
   "toc_window_display": false
  }
 },
 "nbformat": 4,
 "nbformat_minor": 5
}
