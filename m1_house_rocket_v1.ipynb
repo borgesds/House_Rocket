{
 "cells": [
  {
   "cell_type": "markdown",
   "id": "0de67cfb",
   "metadata": {},
   "source": [
    "# 1.0 IMPORT"
   ]
  },
  {
   "cell_type": "code",
   "execution_count": 63,
   "id": "56b92e20",
   "metadata": {
    "ExecuteTime": {
     "end_time": "2021-11-06T16:02:55.302375Z",
     "start_time": "2021-11-06T16:02:55.297657Z"
    }
   },
   "outputs": [],
   "source": [
    "import pandas as pd\n",
    "import numpy as np\n",
    "import seaborn as sns\n",
    "import matplotlib.pyplot as plt\n",
    "import warnings\n",
    "\n",
    "\n",
    "warnings.filterwarnings('ignore')"
   ]
  },
  {
   "cell_type": "markdown",
   "id": "0492cc0b",
   "metadata": {
    "heading_collapsed": true
   },
   "source": [
    "## 1.1 Helper Fuctions"
   ]
  },
  {
   "cell_type": "code",
   "execution_count": 64,
   "id": "2571aedf",
   "metadata": {
    "ExecuteTime": {
     "end_time": "2021-11-06T16:02:55.382922Z",
     "start_time": "2021-11-06T16:02:55.303887Z"
    },
    "hidden": true
   },
   "outputs": [],
   "source": [
    "def grafdisplot(dt):\n",
    "    sns.set(rc={'figure.figsize':(20, 10)})\n",
    "    sns.distplot(dt, kde=True);\n",
    "    \n",
    "    return None\n"
   ]
  },
  {
   "cell_type": "markdown",
   "id": "0b578313",
   "metadata": {
    "heading_collapsed": true
   },
   "source": [
    "## 1.2 Loding data"
   ]
  },
  {
   "cell_type": "code",
   "execution_count": 65,
   "id": "f59c594d",
   "metadata": {
    "ExecuteTime": {
     "end_time": "2021-11-06T16:02:55.599633Z",
     "start_time": "2021-11-06T16:02:55.389052Z"
    },
    "hidden": true
   },
   "outputs": [],
   "source": [
    "df1 = pd.read_csv('data/kc_house_data.csv')"
   ]
  },
  {
   "cell_type": "markdown",
   "id": "88d650d0",
   "metadata": {
    "heading_collapsed": true
   },
   "source": [
    "# 2.0 Passo 01 - DESCRIÇÃO DOS DADOS"
   ]
  },
  {
   "cell_type": "code",
   "execution_count": 66,
   "id": "723aa2e7",
   "metadata": {
    "ExecuteTime": {
     "end_time": "2021-11-06T16:02:55.615834Z",
     "start_time": "2021-11-06T16:02:55.603975Z"
    },
    "hidden": true
   },
   "outputs": [],
   "source": [
    "df2 = df1.copy()"
   ]
  },
  {
   "cell_type": "markdown",
   "id": "2c885845",
   "metadata": {
    "heading_collapsed": true,
    "hidden": true
   },
   "source": [
    "## 2.1 Data Dimensions"
   ]
  },
  {
   "cell_type": "code",
   "execution_count": 67,
   "id": "c003abd0",
   "metadata": {
    "ExecuteTime": {
     "end_time": "2021-11-06T16:02:55.703073Z",
     "start_time": "2021-11-06T16:02:55.619250Z"
    },
    "hidden": true
   },
   "outputs": [
    {
     "name": "stdout",
     "output_type": "stream",
     "text": [
      "Number of Rows: 21613\n",
      "Number of Cols: 21\n"
     ]
    }
   ],
   "source": [
    "print('Number of Rows: {}'.format(df2.shape[0]))\n",
    "print('Number of Cols: {}'.format(df2.shape[1]))"
   ]
  },
  {
   "cell_type": "markdown",
   "id": "02fe7bd9",
   "metadata": {
    "heading_collapsed": true,
    "hidden": true
   },
   "source": [
    "## 2.2 Data Types"
   ]
  },
  {
   "cell_type": "code",
   "execution_count": 68,
   "id": "eea502ba",
   "metadata": {
    "ExecuteTime": {
     "end_time": "2021-11-06T16:02:55.801952Z",
     "start_time": "2021-11-06T16:02:55.707186Z"
    },
    "hidden": true
   },
   "outputs": [
    {
     "data": {
      "text/plain": [
       "id                        int64\n",
       "date             datetime64[ns]\n",
       "price                   float64\n",
       "bedrooms                  int64\n",
       "bathrooms               float64\n",
       "sqft_living               int64\n",
       "sqft_lot                  int64\n",
       "floors                  float64\n",
       "waterfront                int64\n",
       "view                      int64\n",
       "condition                 int64\n",
       "grade                     int64\n",
       "sqft_above                int64\n",
       "sqft_basement             int64\n",
       "yr_built                  int64\n",
       "yr_renovated              int64\n",
       "zipcode                   int64\n",
       "lat                     float64\n",
       "long                    float64\n",
       "sqft_living15             int64\n",
       "sqft_lot15                int64\n",
       "dtype: object"
      ]
     },
     "execution_count": 68,
     "metadata": {},
     "output_type": "execute_result"
    }
   ],
   "source": [
    "df2['date'] = pd.to_datetime(df2['date'])\n",
    "df2.dtypes"
   ]
  },
  {
   "cell_type": "markdown",
   "id": "ad1eec5a",
   "metadata": {
    "heading_collapsed": true,
    "hidden": true
   },
   "source": [
    "## 2.3 Check NA"
   ]
  },
  {
   "cell_type": "code",
   "execution_count": 69,
   "id": "3cc58e08",
   "metadata": {
    "ExecuteTime": {
     "end_time": "2021-11-06T16:02:55.910676Z",
     "start_time": "2021-11-06T16:02:55.807493Z"
    },
    "hidden": true
   },
   "outputs": [
    {
     "data": {
      "text/plain": [
       "id               0\n",
       "date             0\n",
       "price            0\n",
       "bedrooms         0\n",
       "bathrooms        0\n",
       "sqft_living      0\n",
       "sqft_lot         0\n",
       "floors           0\n",
       "waterfront       0\n",
       "view             0\n",
       "condition        0\n",
       "grade            0\n",
       "sqft_above       0\n",
       "sqft_basement    0\n",
       "yr_built         0\n",
       "yr_renovated     0\n",
       "zipcode          0\n",
       "lat              0\n",
       "long             0\n",
       "sqft_living15    0\n",
       "sqft_lot15       0\n",
       "dtype: int64"
      ]
     },
     "execution_count": 69,
     "metadata": {},
     "output_type": "execute_result"
    }
   ],
   "source": [
    "df2.isna().sum()"
   ]
  },
  {
   "cell_type": "markdown",
   "id": "1ec27ac8",
   "metadata": {
    "heading_collapsed": true,
    "hidden": true
   },
   "source": [
    "## 2.4 Descriptive Statistical"
   ]
  },
  {
   "cell_type": "code",
   "execution_count": 70,
   "id": "34dad021",
   "metadata": {
    "ExecuteTime": {
     "end_time": "2021-11-06T16:02:56.004853Z",
     "start_time": "2021-11-06T16:02:55.919687Z"
    },
    "hidden": true
   },
   "outputs": [],
   "source": [
    "num_attributes = df2.select_dtypes(include=['int64', 'float64'])\n",
    "num_attributes = num_attributes.drop(columns=['id', 'yr_built', 'yr_renovated', 'zipcode', \n",
    "                                              'view', 'lat', 'long'])"
   ]
  },
  {
   "cell_type": "markdown",
   "id": "ea31f557",
   "metadata": {
    "heading_collapsed": true,
    "hidden": true
   },
   "source": [
    "### 2.4.1 Numerical Attributes"
   ]
  },
  {
   "cell_type": "code",
   "execution_count": 71,
   "id": "b87c37e1",
   "metadata": {
    "ExecuteTime": {
     "end_time": "2021-11-06T16:02:56.196964Z",
     "start_time": "2021-11-06T16:02:56.013516Z"
    },
    "hidden": true,
    "hide_input": true
   },
   "outputs": [],
   "source": [
    "# Central Tendency - mean, median\n",
    "ct1 = pd.DataFrame(num_attributes.apply(np.mean)).T\n",
    "ct2 = pd.DataFrame(num_attributes.apply(np.median)).T\n",
    "\n",
    "# Dispersion - std, min, max, range, skew, kurtosis\n",
    "d1 = pd.DataFrame(num_attributes.apply(np.std)).T\n",
    "d2 = pd.DataFrame(num_attributes.apply(min)).T\n",
    "d3 = pd.DataFrame(num_attributes.apply(max)).T\n",
    "d4 = pd.DataFrame(num_attributes.apply(lambda x : x.max() - x.min())).T\n",
    "d5 = pd.DataFrame(num_attributes.apply(lambda x: x.skew())).T\n",
    "d6 = pd.DataFrame(num_attributes.apply(lambda x: x.kurtosis())).T\n",
    "\n",
    "# concatenate\n",
    "con_ = pd.concat([d2, d3, d4, ct1, ct2, d1, d5, d6]).T.reset_index()\n",
    "con_.columns = ['attributes', 'min', 'max', 'range', 'mean', 'median', 'std', 'skew', 'kurtosis'] "
   ]
  },
  {
   "cell_type": "code",
   "execution_count": 72,
   "id": "0d3c6cc1",
   "metadata": {
    "ExecuteTime": {
     "end_time": "2021-11-06T16:02:56.211625Z",
     "start_time": "2021-11-06T16:02:56.198427Z"
    },
    "hidden": true,
    "scrolled": false
   },
   "outputs": [
    {
     "data": {
      "text/html": [
       "<div>\n",
       "<style scoped>\n",
       "    .dataframe tbody tr th:only-of-type {\n",
       "        vertical-align: middle;\n",
       "    }\n",
       "\n",
       "    .dataframe tbody tr th {\n",
       "        vertical-align: top;\n",
       "    }\n",
       "\n",
       "    .dataframe thead th {\n",
       "        text-align: right;\n",
       "    }\n",
       "</style>\n",
       "<table border=\"1\" class=\"dataframe\">\n",
       "  <thead>\n",
       "    <tr style=\"text-align: right;\">\n",
       "      <th></th>\n",
       "      <th>attributes</th>\n",
       "      <th>min</th>\n",
       "      <th>max</th>\n",
       "      <th>range</th>\n",
       "      <th>mean</th>\n",
       "      <th>median</th>\n",
       "      <th>std</th>\n",
       "      <th>skew</th>\n",
       "      <th>kurtosis</th>\n",
       "    </tr>\n",
       "  </thead>\n",
       "  <tbody>\n",
       "    <tr>\n",
       "      <th>0</th>\n",
       "      <td>price</td>\n",
       "      <td>75000.0</td>\n",
       "      <td>7700000.0</td>\n",
       "      <td>7625000.0</td>\n",
       "      <td>540088.141767</td>\n",
       "      <td>450000.00</td>\n",
       "      <td>367118.703181</td>\n",
       "      <td>4.024069</td>\n",
       "      <td>34.585540</td>\n",
       "    </tr>\n",
       "    <tr>\n",
       "      <th>1</th>\n",
       "      <td>bedrooms</td>\n",
       "      <td>0.0</td>\n",
       "      <td>33.0</td>\n",
       "      <td>33.0</td>\n",
       "      <td>3.370842</td>\n",
       "      <td>3.00</td>\n",
       "      <td>0.930040</td>\n",
       "      <td>1.974300</td>\n",
       "      <td>49.063653</td>\n",
       "    </tr>\n",
       "    <tr>\n",
       "      <th>2</th>\n",
       "      <td>bathrooms</td>\n",
       "      <td>0.0</td>\n",
       "      <td>8.0</td>\n",
       "      <td>8.0</td>\n",
       "      <td>2.114757</td>\n",
       "      <td>2.25</td>\n",
       "      <td>0.770145</td>\n",
       "      <td>0.511108</td>\n",
       "      <td>1.279902</td>\n",
       "    </tr>\n",
       "    <tr>\n",
       "      <th>3</th>\n",
       "      <td>sqft_living</td>\n",
       "      <td>290.0</td>\n",
       "      <td>13540.0</td>\n",
       "      <td>13250.0</td>\n",
       "      <td>2079.899736</td>\n",
       "      <td>1910.00</td>\n",
       "      <td>918.419649</td>\n",
       "      <td>1.471555</td>\n",
       "      <td>5.243093</td>\n",
       "    </tr>\n",
       "    <tr>\n",
       "      <th>4</th>\n",
       "      <td>sqft_lot</td>\n",
       "      <td>520.0</td>\n",
       "      <td>1651359.0</td>\n",
       "      <td>1650839.0</td>\n",
       "      <td>15106.967566</td>\n",
       "      <td>7618.00</td>\n",
       "      <td>41419.553273</td>\n",
       "      <td>13.060019</td>\n",
       "      <td>285.077820</td>\n",
       "    </tr>\n",
       "    <tr>\n",
       "      <th>5</th>\n",
       "      <td>floors</td>\n",
       "      <td>1.0</td>\n",
       "      <td>3.5</td>\n",
       "      <td>2.5</td>\n",
       "      <td>1.494309</td>\n",
       "      <td>1.50</td>\n",
       "      <td>0.539976</td>\n",
       "      <td>0.616177</td>\n",
       "      <td>-0.484723</td>\n",
       "    </tr>\n",
       "    <tr>\n",
       "      <th>6</th>\n",
       "      <td>waterfront</td>\n",
       "      <td>0.0</td>\n",
       "      <td>1.0</td>\n",
       "      <td>1.0</td>\n",
       "      <td>0.007542</td>\n",
       "      <td>0.00</td>\n",
       "      <td>0.086515</td>\n",
       "      <td>11.385108</td>\n",
       "      <td>127.632494</td>\n",
       "    </tr>\n",
       "    <tr>\n",
       "      <th>7</th>\n",
       "      <td>condition</td>\n",
       "      <td>1.0</td>\n",
       "      <td>5.0</td>\n",
       "      <td>4.0</td>\n",
       "      <td>3.409430</td>\n",
       "      <td>3.00</td>\n",
       "      <td>0.650728</td>\n",
       "      <td>1.032805</td>\n",
       "      <td>0.525764</td>\n",
       "    </tr>\n",
       "    <tr>\n",
       "      <th>8</th>\n",
       "      <td>grade</td>\n",
       "      <td>1.0</td>\n",
       "      <td>13.0</td>\n",
       "      <td>12.0</td>\n",
       "      <td>7.656873</td>\n",
       "      <td>7.00</td>\n",
       "      <td>1.175432</td>\n",
       "      <td>0.771103</td>\n",
       "      <td>1.190932</td>\n",
       "    </tr>\n",
       "    <tr>\n",
       "      <th>9</th>\n",
       "      <td>sqft_above</td>\n",
       "      <td>290.0</td>\n",
       "      <td>9410.0</td>\n",
       "      <td>9120.0</td>\n",
       "      <td>1788.390691</td>\n",
       "      <td>1560.00</td>\n",
       "      <td>828.071820</td>\n",
       "      <td>1.446664</td>\n",
       "      <td>3.402304</td>\n",
       "    </tr>\n",
       "    <tr>\n",
       "      <th>10</th>\n",
       "      <td>sqft_basement</td>\n",
       "      <td>0.0</td>\n",
       "      <td>4820.0</td>\n",
       "      <td>4820.0</td>\n",
       "      <td>291.509045</td>\n",
       "      <td>0.00</td>\n",
       "      <td>442.564804</td>\n",
       "      <td>1.577965</td>\n",
       "      <td>2.715574</td>\n",
       "    </tr>\n",
       "    <tr>\n",
       "      <th>11</th>\n",
       "      <td>sqft_living15</td>\n",
       "      <td>399.0</td>\n",
       "      <td>6210.0</td>\n",
       "      <td>5811.0</td>\n",
       "      <td>1986.552492</td>\n",
       "      <td>1840.00</td>\n",
       "      <td>685.375448</td>\n",
       "      <td>1.108181</td>\n",
       "      <td>1.597096</td>\n",
       "    </tr>\n",
       "    <tr>\n",
       "      <th>12</th>\n",
       "      <td>sqft_lot15</td>\n",
       "      <td>651.0</td>\n",
       "      <td>871200.0</td>\n",
       "      <td>870549.0</td>\n",
       "      <td>12768.455652</td>\n",
       "      <td>7620.00</td>\n",
       "      <td>27303.547963</td>\n",
       "      <td>9.506743</td>\n",
       "      <td>150.763110</td>\n",
       "    </tr>\n",
       "  </tbody>\n",
       "</table>\n",
       "</div>"
      ],
      "text/plain": [
       "       attributes      min        max      range           mean     median  \\\n",
       "0           price  75000.0  7700000.0  7625000.0  540088.141767  450000.00   \n",
       "1        bedrooms      0.0       33.0       33.0       3.370842       3.00   \n",
       "2       bathrooms      0.0        8.0        8.0       2.114757       2.25   \n",
       "3     sqft_living    290.0    13540.0    13250.0    2079.899736    1910.00   \n",
       "4        sqft_lot    520.0  1651359.0  1650839.0   15106.967566    7618.00   \n",
       "5          floors      1.0        3.5        2.5       1.494309       1.50   \n",
       "6      waterfront      0.0        1.0        1.0       0.007542       0.00   \n",
       "7       condition      1.0        5.0        4.0       3.409430       3.00   \n",
       "8           grade      1.0       13.0       12.0       7.656873       7.00   \n",
       "9      sqft_above    290.0     9410.0     9120.0    1788.390691    1560.00   \n",
       "10  sqft_basement      0.0     4820.0     4820.0     291.509045       0.00   \n",
       "11  sqft_living15    399.0     6210.0     5811.0    1986.552492    1840.00   \n",
       "12     sqft_lot15    651.0   871200.0   870549.0   12768.455652    7620.00   \n",
       "\n",
       "              std       skew    kurtosis  \n",
       "0   367118.703181   4.024069   34.585540  \n",
       "1        0.930040   1.974300   49.063653  \n",
       "2        0.770145   0.511108    1.279902  \n",
       "3      918.419649   1.471555    5.243093  \n",
       "4    41419.553273  13.060019  285.077820  \n",
       "5        0.539976   0.616177   -0.484723  \n",
       "6        0.086515  11.385108  127.632494  \n",
       "7        0.650728   1.032805    0.525764  \n",
       "8        1.175432   0.771103    1.190932  \n",
       "9      828.071820   1.446664    3.402304  \n",
       "10     442.564804   1.577965    2.715574  \n",
       "11     685.375448   1.108181    1.597096  \n",
       "12   27303.547963   9.506743  150.763110  "
      ]
     },
     "execution_count": 72,
     "metadata": {},
     "output_type": "execute_result"
    }
   ],
   "source": [
    "con_"
   ]
  },
  {
   "cell_type": "code",
   "execution_count": 73,
   "id": "a9bf81de",
   "metadata": {
    "ExecuteTime": {
     "end_time": "2021-11-06T16:02:56.806659Z",
     "start_time": "2021-11-06T16:02:56.212636Z"
    },
    "hidden": true
   },
   "outputs": [
    {
     "data": {
      "image/png": "[encoded data removed]",
      "text/plain": [
       "<Figure size 1440x720 with 1 Axes>"
      ]
     },
     "metadata": {},
     "output_type": "display_data"
    }
   ],
   "source": [
    "grafdisplot(df['price'])"
   ]
  },
  {
   "cell_type": "markdown",
   "id": "b312c3ed",
   "metadata": {},
   "source": [
    "# 3.0 Criação das Hipoteses"
   ]
  },
  {
   "cell_type": "markdown",
   "id": "79b3d797",
   "metadata": {
    "heading_collapsed": true
   },
   "source": [
    "### 3.1.1 Columns"
   ]
  },
  {
   "cell_type": "markdown",
   "id": "7c070fab",
   "metadata": {
    "hidden": true
   },
   "source": [
    "- id :uma notação para uma casa\n",
    "\n",
    "- date: a data foi vendida\n",
    "\n",
    "- price: o preço é a meta de previsão\n",
    "\n",
    "- bedrooms:Número de quartos / casa\n",
    "\n",
    "- bathrooms: Número de banheiros / quartos\n",
    "\n",
    "- sqft_living: metragem quadrada da casa\n",
    "\n",
    "- sqft_lot: metragem quadrada do lote\n",
    "\n",
    "- floors :Total de pisos (níveis) na casa\n",
    "\n",
    "- waterfront :casa com vista para a beira-mar\n",
    "\n",
    "- view: foi visualizado\n",
    "\n",
    "- condition :quão boa é a condição geral\n",
    "\n",
    "- grade: nota geral dada à unidade habitacional, com base no sistema de classificação de King County \n",
    "\n",
    "- sqft_above :metragem quadrada da casa além do porão\n",
    "\n",
    "- sqft_basement: metragem quadrada do porão\n",
    "\n",
    "- yr_built :Ano de construção\n",
    "\n",
    "- yr_renovated :ano em que a casa foi reformada\n",
    "\n",
    "- zipcode:código postal\n",
    "\n",
    "- lat: coordenada de latitude\n",
    "\n",
    "- long: coordenada de longitude\n",
    "\n",
    "- sqft_living15 :Área da sala de estar em 2015 (implica-- algumas renovações) Isso pode ou não ter afetado o tamanho do lote\n",
    "\n",
    "- sqft_lot15 :rea lotSize em 2015 (implica-- algumas renovações)"
   ]
  },
  {
   "cell_type": "markdown",
   "id": "05cbbb3e",
   "metadata": {
    "heading_collapsed": true
   },
   "source": [
    "### 3.1.2 Hipoteses "
   ]
  },
  {
   "cell_type": "markdown",
   "id": "3d12e3e6",
   "metadata": {
    "hidden": true
   },
   "source": [
    "- H1: A maioria das casas com 3 quartos são acima da mediana do preço.\n",
    "- H2: A maioria das casas com 3 quartos e 2 banheiros são acima da mediana do preço.\n",
    "- H3: A maioria das casas a baixo da mediana de m² construídos são mais baratas.\n",
    "- H4: Casas com com vista para água são 30% mais caros que a mediana do preço.\n",
    "- H5: A maioria das casas com porão e 2 andares são mais caras que que a mediana do preço.\n",
    "- H6: Casas com a data de construção igual ou menor que 1955 são 50% mais barato que a mediana do preço.\n",
    "- H7: A maioria das casas com datas acima de 1990 que tiveram reformas são mais caras que a mediana.\n",
    "- H8: A maioria das casas com 2 andares e 2 banheiros são mais caro que a mediana do preço.\n",
    "- H9: A maioria das casas com m² de contrução e m² do lote abaixo da mediana são mais baratos caro que a mediana do preço.\n",
    "- H10: A maioria das casas acima do ano 2000 de construção são mais caras que a mediana do preço."
   ]
  },
  {
   "cell_type": "markdown",
   "id": "61097140",
   "metadata": {},
   "source": [
    "# 4.0 Passo 03 - NEW CONSIDERABLE VARIABLES\n"
   ]
  },
  {
   "cell_type": "code",
   "execution_count": 74,
   "id": "cf120096",
   "metadata": {
    "ExecuteTime": {
     "end_time": "2021-11-06T16:02:56.813153Z",
     "start_time": "2021-11-06T16:02:56.808199Z"
    }
   },
   "outputs": [],
   "source": [
    "df3 = df2.copy()"
   ]
  },
  {
   "cell_type": "markdown",
   "id": "3b647e11",
   "metadata": {
    "ExecuteTime": {
     "end_time": "2021-11-06T12:41:38.022887Z",
     "start_time": "2021-11-06T12:41:38.015011Z"
    }
   },
   "source": [
    "## 4.1 Real estate level"
   ]
  },
  {
   "cell_type": "code",
   "execution_count": 75,
   "id": "df0aaa2c",
   "metadata": {
    "ExecuteTime": {
     "end_time": "2021-11-06T16:02:56.914476Z",
     "start_time": "2021-11-06T16:02:56.814496Z"
    }
   },
   "outputs": [],
   "source": [
    "# Nível 0 == Preço entre R$ 0 e R$ 321.950\n",
    "# Nível 1 == Preço entre R$ 321.950 e R$ 450.000\n",
    "# Nível 2 == Preço entre R$ 450.000 e R$ 645.000\n",
    "# Nível 3 == Preço acimsa R$ 645.000\n",
    "\n",
    "df3['level'] = df3['price'].apply(lambda x: 'nivel_0' if (x >= 0) & (x < 321950) else \n",
    "                                  'nivel_1' if (x >= 321950) & (x < 450000) else \n",
    "                                  'nivel_2' if (x >= 450000) & (x < 645000) else 'nivel_3')\n"
   ]
  },
  {
   "cell_type": "markdown",
   "id": "b081fb6d",
   "metadata": {},
   "source": [
    "## 4.2 Dormitory type"
   ]
  },
  {
   "cell_type": "code",
   "execution_count": 76,
   "id": "957e8094",
   "metadata": {
    "ExecuteTime": {
     "end_time": "2021-11-06T16:02:57.019471Z",
     "start_time": "2021-11-06T16:02:56.918072Z"
    }
   },
   "outputs": [],
   "source": [
    "# Studio == bedrooms igual ou menor que 1\n",
    "# Apart_or_House == bedrooms entre 2 e 4\n",
    "# house == bedrooms maior que 4\n",
    "\n",
    "df3['dormitory_type'] = df3['bedrooms'].apply(lambda x: 'studio' if x <=1 else \n",
    "                                              'apart_or_house' if (x >=2) & (x <= 3) else 'house')"
   ]
  },
  {
   "cell_type": "markdown",
   "id": "283035d1",
   "metadata": {},
   "source": [
    "## 4.2 Condition type"
   ]
  },
  {
   "cell_type": "code",
   "execution_count": 77,
   "id": "10f34f02",
   "metadata": {
    "ExecuteTime": {
     "end_time": "2021-11-06T16:02:57.102050Z",
     "start_time": "2021-11-06T16:02:57.024979Z"
    }
   },
   "outputs": [],
   "source": [
    "# Bad == Se a condition for menor ou igual a 2\n",
    "# Regular == Se a condition for igual a 3 ou 4\n",
    "# Good == Se a condition for igual 5\n",
    "\n",
    "df3['condition_type'] = df3['condition'].apply(lambda x: 'bad' if x <= 2 else \n",
    "                                               'regular' if (x == 3) | (x == 4) else 'good')"
   ]
  },
  {
   "cell_type": "markdown",
   "id": "07b2c61a",
   "metadata": {},
   "source": [
    "## 4.3 House age"
   ]
  },
  {
   "cell_type": "code",
   "execution_count": 78,
   "id": "afd22cf6",
   "metadata": {
    "ExecuteTime": {
     "end_time": "2021-11-06T16:02:59.176149Z",
     "start_time": "2021-11-06T16:02:57.108067Z"
    }
   },
   "outputs": [],
   "source": [
    "# New_House == data maior que 2014-01-01\n",
    "# Old_House == data menor que 2014-01-01\n",
    "\n",
    "df3['data_age'] = df3['date'].apply(lambda x: 'new_house' if x > pd.to_datetime('2014-01-01', format='%Y-%m-%d') \n",
    "                                   else 'old_house')"
   ]
  },
  {
   "cell_type": "code",
   "execution_count": 79,
   "id": "42d3bf0c",
   "metadata": {
    "ExecuteTime": {
     "end_time": "2021-11-06T16:02:59.199077Z",
     "start_time": "2021-11-06T16:02:59.177382Z"
    }
   },
   "outputs": [
    {
     "data": {
      "text/html": [
       "<div>\n",
       "<style scoped>\n",
       "    .dataframe tbody tr th:only-of-type {\n",
       "        vertical-align: middle;\n",
       "    }\n",
       "\n",
       "    .dataframe tbody tr th {\n",
       "        vertical-align: top;\n",
       "    }\n",
       "\n",
       "    .dataframe thead th {\n",
       "        text-align: right;\n",
       "    }\n",
       "</style>\n",
       "<table border=\"1\" class=\"dataframe\">\n",
       "  <thead>\n",
       "    <tr style=\"text-align: right;\">\n",
       "      <th></th>\n",
       "      <th>id</th>\n",
       "      <th>date</th>\n",
       "      <th>price</th>\n",
       "      <th>bedrooms</th>\n",
       "      <th>bathrooms</th>\n",
       "      <th>sqft_living</th>\n",
       "      <th>sqft_lot</th>\n",
       "      <th>floors</th>\n",
       "      <th>waterfront</th>\n",
       "      <th>view</th>\n",
       "      <th>...</th>\n",
       "      <th>yr_renovated</th>\n",
       "      <th>zipcode</th>\n",
       "      <th>lat</th>\n",
       "      <th>long</th>\n",
       "      <th>sqft_living15</th>\n",
       "      <th>sqft_lot15</th>\n",
       "      <th>level</th>\n",
       "      <th>dormitory_type</th>\n",
       "      <th>condition_type</th>\n",
       "      <th>data_age</th>\n",
       "    </tr>\n",
       "  </thead>\n",
       "  <tbody>\n",
       "    <tr>\n",
       "      <th>0</th>\n",
       "      <td>7129300520</td>\n",
       "      <td>2014-10-13</td>\n",
       "      <td>221900.0</td>\n",
       "      <td>3</td>\n",
       "      <td>1.00</td>\n",
       "      <td>1180</td>\n",
       "      <td>5650</td>\n",
       "      <td>1.0</td>\n",
       "      <td>0</td>\n",
       "      <td>0</td>\n",
       "      <td>...</td>\n",
       "      <td>0</td>\n",
       "      <td>98178</td>\n",
       "      <td>47.5112</td>\n",
       "      <td>-122.257</td>\n",
       "      <td>1340</td>\n",
       "      <td>5650</td>\n",
       "      <td>nivel_0</td>\n",
       "      <td>apart_or_house</td>\n",
       "      <td>regular</td>\n",
       "      <td>new_house</td>\n",
       "    </tr>\n",
       "    <tr>\n",
       "      <th>1</th>\n",
       "      <td>6414100192</td>\n",
       "      <td>2014-12-09</td>\n",
       "      <td>538000.0</td>\n",
       "      <td>3</td>\n",
       "      <td>2.25</td>\n",
       "      <td>2570</td>\n",
       "      <td>7242</td>\n",
       "      <td>2.0</td>\n",
       "      <td>0</td>\n",
       "      <td>0</td>\n",
       "      <td>...</td>\n",
       "      <td>1991</td>\n",
       "      <td>98125</td>\n",
       "      <td>47.7210</td>\n",
       "      <td>-122.319</td>\n",
       "      <td>1690</td>\n",
       "      <td>7639</td>\n",
       "      <td>nivel_2</td>\n",
       "      <td>apart_or_house</td>\n",
       "      <td>regular</td>\n",
       "      <td>new_house</td>\n",
       "    </tr>\n",
       "    <tr>\n",
       "      <th>2</th>\n",
       "      <td>5631500400</td>\n",
       "      <td>2015-02-25</td>\n",
       "      <td>180000.0</td>\n",
       "      <td>2</td>\n",
       "      <td>1.00</td>\n",
       "      <td>770</td>\n",
       "      <td>10000</td>\n",
       "      <td>1.0</td>\n",
       "      <td>0</td>\n",
       "      <td>0</td>\n",
       "      <td>...</td>\n",
       "      <td>0</td>\n",
       "      <td>98028</td>\n",
       "      <td>47.7379</td>\n",
       "      <td>-122.233</td>\n",
       "      <td>2720</td>\n",
       "      <td>8062</td>\n",
       "      <td>nivel_0</td>\n",
       "      <td>apart_or_house</td>\n",
       "      <td>regular</td>\n",
       "      <td>new_house</td>\n",
       "    </tr>\n",
       "    <tr>\n",
       "      <th>3</th>\n",
       "      <td>2487200875</td>\n",
       "      <td>2014-12-09</td>\n",
       "      <td>604000.0</td>\n",
       "      <td>4</td>\n",
       "      <td>3.00</td>\n",
       "      <td>1960</td>\n",
       "      <td>5000</td>\n",
       "      <td>1.0</td>\n",
       "      <td>0</td>\n",
       "      <td>0</td>\n",
       "      <td>...</td>\n",
       "      <td>0</td>\n",
       "      <td>98136</td>\n",
       "      <td>47.5208</td>\n",
       "      <td>-122.393</td>\n",
       "      <td>1360</td>\n",
       "      <td>5000</td>\n",
       "      <td>nivel_2</td>\n",
       "      <td>house</td>\n",
       "      <td>good</td>\n",
       "      <td>new_house</td>\n",
       "    </tr>\n",
       "    <tr>\n",
       "      <th>4</th>\n",
       "      <td>1954400510</td>\n",
       "      <td>2015-02-18</td>\n",
       "      <td>510000.0</td>\n",
       "      <td>3</td>\n",
       "      <td>2.00</td>\n",
       "      <td>1680</td>\n",
       "      <td>8080</td>\n",
       "      <td>1.0</td>\n",
       "      <td>0</td>\n",
       "      <td>0</td>\n",
       "      <td>...</td>\n",
       "      <td>0</td>\n",
       "      <td>98074</td>\n",
       "      <td>47.6168</td>\n",
       "      <td>-122.045</td>\n",
       "      <td>1800</td>\n",
       "      <td>7503</td>\n",
       "      <td>nivel_2</td>\n",
       "      <td>apart_or_house</td>\n",
       "      <td>regular</td>\n",
       "      <td>new_house</td>\n",
       "    </tr>\n",
       "  </tbody>\n",
       "</table>\n",
       "<p>5 rows × 25 columns</p>\n",
       "</div>"
      ],
      "text/plain": [
       "           id       date     price  bedrooms  bathrooms  sqft_living  \\\n",
       "0  7129300520 2014-10-13  221900.0         3       1.00         1180   \n",
       "1  6414100192 2014-12-09  538000.0         3       2.25         2570   \n",
       "2  5631500400 2015-02-25  180000.0         2       1.00          770   \n",
       "3  2487200875 2014-12-09  604000.0         4       3.00         1960   \n",
       "4  1954400510 2015-02-18  510000.0         3       2.00         1680   \n",
       "\n",
       "   sqft_lot  floors  waterfront  view  ...  yr_renovated  zipcode      lat  \\\n",
       "0      5650     1.0           0     0  ...             0    98178  47.5112   \n",
       "1      7242     2.0           0     0  ...          1991    98125  47.7210   \n",
       "2     10000     1.0           0     0  ...             0    98028  47.7379   \n",
       "3      5000     1.0           0     0  ...             0    98136  47.5208   \n",
       "4      8080     1.0           0     0  ...             0    98074  47.6168   \n",
       "\n",
       "      long  sqft_living15  sqft_lot15    level  dormitory_type  \\\n",
       "0 -122.257           1340        5650  nivel_0  apart_or_house   \n",
       "1 -122.319           1690        7639  nivel_2  apart_or_house   \n",
       "2 -122.233           2720        8062  nivel_0  apart_or_house   \n",
       "3 -122.393           1360        5000  nivel_2           house   \n",
       "4 -122.045           1800        7503  nivel_2  apart_or_house   \n",
       "\n",
       "   condition_type   data_age  \n",
       "0         regular  new_house  \n",
       "1         regular  new_house  \n",
       "2         regular  new_house  \n",
       "3            good  new_house  \n",
       "4         regular  new_house  \n",
       "\n",
       "[5 rows x 25 columns]"
      ]
     },
     "execution_count": 79,
     "metadata": {},
     "output_type": "execute_result"
    }
   ],
   "source": [
    "df3.head()"
   ]
  }
 ],
 "metadata": {
  "kernelspec": {
   "display_name": "Python 3",
   "language": "python",
   "name": "python3"
  },
  "language_info": {
   "codemirror_mode": {
    "name": "ipython",
    "version": 3
   },
   "file_extension": ".py",
   "mimetype": "text/x-python",
   "name": "python",
   "nbconvert_exporter": "python",
   "pygments_lexer": "ipython3",
   "version": "3.8.8"
  },
  "toc": {
   "base_numbering": 1,
   "nav_menu": {},
   "number_sections": false,
   "sideBar": false,
   "skip_h1_title": false,
   "title_cell": "Table of Contents",
   "title_sidebar": "Contents",
   "toc_cell": false,
   "toc_position": {
    "height": "526px",
    "left": "1155px",
    "top": "90px",
    "width": "165px"
   },
   "toc_section_display": true,
   "toc_window_display": false
  }
 },
 "nbformat": 4,
 "nbformat_minor": 5
}
